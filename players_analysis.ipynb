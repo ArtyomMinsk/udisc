{
 "cells": [
  {
   "cell_type": "code",
   "execution_count": 1,
   "id": "initial_id",
   "metadata": {
    "collapsed": true,
    "ExecuteTime": {
     "end_time": "2024-02-09T17:15:03.049186700Z",
     "start_time": "2024-02-09T17:15:02.716881800Z"
    }
   },
   "outputs": [],
   "source": [
    "import pandas as pd\n",
    "from datetime import datetime"
   ]
  },
  {
   "cell_type": "code",
   "execution_count": 38,
   "outputs": [
    {
     "data": {
      "text/plain": "  PlayerName        CourseName        StartDate  Total   +/-  Hole1  Hole2  \\\n0        Par  Middle Creek DGC  2024-02-04 1907     54   NaN      3      3   \n1     Artyom  Middle Creek DGC  2024-02-04 1907     61   7.0      6      3   \n2     Alexey  Middle Creek DGC  2024-02-04 1907     67  13.0      4      3   \n3     Sergey  Middle Creek DGC  2024-02-04 1907     67  13.0      4      3   \n4        Par  Middle Creek DGC  2024-01-28 1903     54   NaN      3      3   \n\n   Hole3  Hole4  Hole5  ...  Hole13  Hole14  Hole15  Hole16  Hole17  Hole18  \\\n0      3      3      3  ...       3       3       3       3       3       3   \n1      3      2      4  ...       4       4       4       3       3       3   \n2      3      4      4  ...       3       4       3       3       4       4   \n3      3      3      2  ...       3       4       4       4       4       3   \n4      3      3      3  ...       3       3       3       3       3       3   \n\n   Hole19  Hole20  Hole21  Hole22  \n0     NaN     NaN     NaN     NaN  \n1     NaN     NaN     NaN     NaN  \n2     NaN     NaN     NaN     NaN  \n3     NaN     NaN     NaN     NaN  \n4     NaN     NaN     NaN     NaN  \n\n[5 rows x 27 columns]",
      "text/html": "<div>\n<style scoped>\n    .dataframe tbody tr th:only-of-type {\n        vertical-align: middle;\n    }\n\n    .dataframe tbody tr th {\n        vertical-align: top;\n    }\n\n    .dataframe thead th {\n        text-align: right;\n    }\n</style>\n<table border=\"1\" class=\"dataframe\">\n  <thead>\n    <tr style=\"text-align: right;\">\n      <th></th>\n      <th>PlayerName</th>\n      <th>CourseName</th>\n      <th>StartDate</th>\n      <th>Total</th>\n      <th>+/-</th>\n      <th>Hole1</th>\n      <th>Hole2</th>\n      <th>Hole3</th>\n      <th>Hole4</th>\n      <th>Hole5</th>\n      <th>...</th>\n      <th>Hole13</th>\n      <th>Hole14</th>\n      <th>Hole15</th>\n      <th>Hole16</th>\n      <th>Hole17</th>\n      <th>Hole18</th>\n      <th>Hole19</th>\n      <th>Hole20</th>\n      <th>Hole21</th>\n      <th>Hole22</th>\n    </tr>\n  </thead>\n  <tbody>\n    <tr>\n      <th>0</th>\n      <td>Par</td>\n      <td>Middle Creek DGC</td>\n      <td>2024-02-04 1907</td>\n      <td>54</td>\n      <td>NaN</td>\n      <td>3</td>\n      <td>3</td>\n      <td>3</td>\n      <td>3</td>\n      <td>3</td>\n      <td>...</td>\n      <td>3</td>\n      <td>3</td>\n      <td>3</td>\n      <td>3</td>\n      <td>3</td>\n      <td>3</td>\n      <td>NaN</td>\n      <td>NaN</td>\n      <td>NaN</td>\n      <td>NaN</td>\n    </tr>\n    <tr>\n      <th>1</th>\n      <td>Artyom</td>\n      <td>Middle Creek DGC</td>\n      <td>2024-02-04 1907</td>\n      <td>61</td>\n      <td>7.0</td>\n      <td>6</td>\n      <td>3</td>\n      <td>3</td>\n      <td>2</td>\n      <td>4</td>\n      <td>...</td>\n      <td>4</td>\n      <td>4</td>\n      <td>4</td>\n      <td>3</td>\n      <td>3</td>\n      <td>3</td>\n      <td>NaN</td>\n      <td>NaN</td>\n      <td>NaN</td>\n      <td>NaN</td>\n    </tr>\n    <tr>\n      <th>2</th>\n      <td>Alexey</td>\n      <td>Middle Creek DGC</td>\n      <td>2024-02-04 1907</td>\n      <td>67</td>\n      <td>13.0</td>\n      <td>4</td>\n      <td>3</td>\n      <td>3</td>\n      <td>4</td>\n      <td>4</td>\n      <td>...</td>\n      <td>3</td>\n      <td>4</td>\n      <td>3</td>\n      <td>3</td>\n      <td>4</td>\n      <td>4</td>\n      <td>NaN</td>\n      <td>NaN</td>\n      <td>NaN</td>\n      <td>NaN</td>\n    </tr>\n    <tr>\n      <th>3</th>\n      <td>Sergey</td>\n      <td>Middle Creek DGC</td>\n      <td>2024-02-04 1907</td>\n      <td>67</td>\n      <td>13.0</td>\n      <td>4</td>\n      <td>3</td>\n      <td>3</td>\n      <td>3</td>\n      <td>2</td>\n      <td>...</td>\n      <td>3</td>\n      <td>4</td>\n      <td>4</td>\n      <td>4</td>\n      <td>4</td>\n      <td>3</td>\n      <td>NaN</td>\n      <td>NaN</td>\n      <td>NaN</td>\n      <td>NaN</td>\n    </tr>\n    <tr>\n      <th>4</th>\n      <td>Par</td>\n      <td>Middle Creek DGC</td>\n      <td>2024-01-28 1903</td>\n      <td>54</td>\n      <td>NaN</td>\n      <td>3</td>\n      <td>3</td>\n      <td>3</td>\n      <td>3</td>\n      <td>3</td>\n      <td>...</td>\n      <td>3</td>\n      <td>3</td>\n      <td>3</td>\n      <td>3</td>\n      <td>3</td>\n      <td>3</td>\n      <td>NaN</td>\n      <td>NaN</td>\n      <td>NaN</td>\n      <td>NaN</td>\n    </tr>\n  </tbody>\n</table>\n<p>5 rows × 27 columns</p>\n</div>"
     },
     "execution_count": 38,
     "metadata": {},
     "output_type": "execute_result"
    }
   ],
   "source": [
    "df = pd.read_csv(\"data/scorecards.csv\")\n",
    "drop_cols = ['LayoutName', 'EndDate', 'RoundRating']\n",
    "filter_courses = [\"UNC\", \"Richmond Hill\", \"North Cove Disc Golf: River Run\", \"Cedar Hills Park\"]\n",
    "filter_players = [\"Bogdan\", \"Irat\", \"Alexey P\", \"Yulia\", \"Vova P\", \"Cody\", \"Leo\", \"Pavel\", \"Andrew\", \"Nikita\", \"Kristina\", \"Olya\", \"Rocky\", \"Vova\", \"Alexey K\", \"Alex K\"]\n",
    "df.drop(columns=drop_cols, inplace=True)\n",
    "df = df[~df[\"CourseName\"].isin(filter_courses)]\n",
    "df[\"PlayerName\"] = df[\"PlayerName\"].str.strip()\n",
    "df = df[~df[\"PlayerName\"].isin(filter_players)]\n",
    "df.head()"
   ],
   "metadata": {
    "collapsed": false,
    "ExecuteTime": {
     "end_time": "2024-02-09T18:29:26.803121100Z",
     "start_time": "2024-02-09T18:29:26.730952300Z"
    }
   },
   "id": "ef23014f6c41d3cb"
  },
  {
   "cell_type": "code",
   "execution_count": 39,
   "outputs": [
    {
     "data": {
      "text/plain": "['Par',\n 'Artyom',\n 'Alexey',\n 'Sergey',\n 'Roma',\n 'Vadim',\n 'Bronik',\n 'Vova U',\n 'Armen']"
     },
     "execution_count": 39,
     "metadata": {},
     "output_type": "execute_result"
    }
   ],
   "source": [
    "df[\"PlayerName\"].unique().tolist()"
   ],
   "metadata": {
    "collapsed": false,
    "ExecuteTime": {
     "end_time": "2024-02-09T18:29:29.927143900Z",
     "start_time": "2024-02-09T18:29:29.894785300Z"
    }
   },
   "id": "7afa1b4e355ff505"
  },
  {
   "cell_type": "code",
   "execution_count": 40,
   "outputs": [
    {
     "data": {
      "text/plain": "PlayerName     object\nCourseName     object\nStartDate      object\nTotal           int64\n+/-           float64\nHole1           int64\nHole2           int64\nHole3           int64\nHole4           int64\nHole5           int64\nHole6           int64\nHole7           int64\nHole8           int64\nHole9           int64\nHole10          int64\nHole11          int64\nHole12          int64\nHole13          int64\nHole14          int64\nHole15          int64\nHole16          int64\nHole17          int64\nHole18          int64\nHole19        float64\nHole20        float64\nHole21        float64\nHole22        float64\ndtype: object"
     },
     "execution_count": 40,
     "metadata": {},
     "output_type": "execute_result"
    }
   ],
   "source": [
    "df.dtypes"
   ],
   "metadata": {
    "collapsed": false,
    "ExecuteTime": {
     "end_time": "2024-02-09T18:30:56.211210Z",
     "start_time": "2024-02-09T18:30:56.187850300Z"
    }
   },
   "id": "c11918c423be3100"
  },
  {
   "cell_type": "code",
   "execution_count": null,
   "outputs": [],
   "source": [],
   "metadata": {
    "collapsed": false
   },
   "id": "4baaecc1d4314285"
  }
 ],
 "metadata": {
  "kernelspec": {
   "display_name": "Python 3",
   "language": "python",
   "name": "python3"
  },
  "language_info": {
   "codemirror_mode": {
    "name": "ipython",
    "version": 2
   },
   "file_extension": ".py",
   "mimetype": "text/x-python",
   "name": "python",
   "nbconvert_exporter": "python",
   "pygments_lexer": "ipython2",
   "version": "2.7.6"
  }
 },
 "nbformat": 4,
 "nbformat_minor": 5
}
